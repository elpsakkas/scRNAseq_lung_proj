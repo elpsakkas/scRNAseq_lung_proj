{
 "cells": [
  {
   "cell_type": "code",
   "execution_count": 1,
   "metadata": {
    "collapsed": true
   },
   "outputs": [],
   "source": [
    "library(biomaRt)\n",
    "library(Rtsne)\n"
   ]
  },
  {
   "cell_type": "code",
   "execution_count": 2,
   "metadata": {
    "collapsed": false
   },
   "outputs": [
    {
     "ename": "ERROR",
     "evalue": "Error in parse(text = x, srcfile = src): <text>:10:1: unexpected symbol\n9:                                  \"external_gene_name\")\n10: gene.name\n    ^\n",
     "output_type": "error",
     "traceback": [
      "Error in parse(text = x, srcfile = src): <text>:10:1: unexpected symbol\n9:                                  \"external_gene_name\")\n10: gene.name\n    ^\nTraceback:\n"
     ]
    }
   ],
   "source": [
    "listMarts(host=\"www.ensembl.org\")\n",
    "ensembl = useMart(biomart = \"ENSEMBL_MART_ENSEMBL\",\n",
    "                  dataset=\"mmusculus_gene_ensembl\",\n",
    "                  host = \"oct2016.archive.ensembl.org\")\n",
    "cd <- read.csv(file.choose(), header =T)\n",
    "meta <- read.csv(',row.names=1)\n",
    "genes <- cd$ensembl_gene_id\n",
    "gene.list <- getBM(filters= \"ensembl_gene_id\",\n",
    "                   attributes= c(\"ensembl_gene_id\",\n",
    "                                 \"external_gene_name\")\n",
    "gene.name <- merge(cd,gene.list, by = \"ensembl_gene_id\")\n",
    "mat <- gene.name\n"
   ]
  },
  {
   "cell_type": "code",
   "execution_count": 3,
   "metadata": {
    "collapsed": false
   },
   "outputs": [
    {
     "ename": "ERROR",
     "evalue": "Error in eval(expr, envir, enclos): object 'mat' not found\n",
     "output_type": "error",
     "traceback": [
      "Error in eval(expr, envir, enclos): object 'mat' not found\nTraceback:\n"
     ]
    }
   ],
   "source": [
    "rownames(mat) <- mat[,424]\n",
    "mat <- mat[,-424]\n",
    "mat <- mat[,-1]\n",
    "mat <- mat[,-1]"
   ]
  },
  {
   "cell_type": "code",
   "execution_count": 4,
   "metadata": {
    "collapsed": false
   },
   "outputs": [
    {
     "ename": "ERROR",
     "evalue": "Error in t(mat): object 'mat' not found\n",
     "output_type": "error",
     "traceback": [
      "Error in t(mat): object 'mat' not found\nTraceback:\n",
      "1. prcomp(t(mat))",
      "2. t(mat)"
     ]
    }
   ],
   "source": [
    "base.pca <- prcomp(t(mat))\n",
    "tail=as.vector(apply(base.pca$rotation[,1:5],2,function(x) tail(names(sort(x)),n=50)))\n",
    "head=as.vector(apply(base.pca$rotation[,1:5],2,function(x) head(names(sort(x)),n=50)))\n",
    "top.load.genes = unique(c(head,tail))\n",
    "top.load.genes <- as.data.frame(top.load.genes)"
   ]
  },
  {
   "cell_type": "code",
   "execution_count": 5,
   "metadata": {
    "collapsed": false
   },
   "outputs": [
    {
     "ename": "ERROR",
     "evalue": "Error in colnames(top.load.genes) <- \"external_gene_name\": object 'top.load.genes' not found\n",
     "output_type": "error",
     "traceback": [
      "Error in colnames(top.load.genes) <- \"external_gene_name\": object 'top.load.genes' not found\nTraceback:\n"
     ]
    }
   ],
   "source": [
    "colnames(top.load.genes) <- 'external_gene_name'\n",
    "top.500 <- merge(top.load.genes,gene.name,by='external_gene_name')\n",
    "\n",
    "rownames(top.500) <- top.500[,1]\n",
    "top.500 <- top.500[,-1]\n",
    "top.500 <- top.500[,-1]\n",
    "top.500 <- top.500[,-1]"
   ]
  },
  {
   "cell_type": "code",
   "execution_count": 6,
   "metadata": {
    "collapsed": false
   },
   "outputs": [
    {
     "ename": "ERROR",
     "evalue": "Error in t(top.500): object 'top.500' not found\n",
     "output_type": "error",
     "traceback": [
      "Error in t(top.500): object 'top.500' not found\nTraceback:\n",
      "1. stats::dist(t(top.500))",
      "2. as.matrix(x)",
      "3. t(top.500)"
     ]
    }
   ],
   "source": [
    "d <- stats::dist(t(top.500))\n",
    "tsne_out <- Rtsne(d,\n",
    "                  dims=2,\n",
    "                  initial_dims=5,\n",
    "                  is_distance=TRUE,\n",
    "                  perplexity=32,\n",
    "                  verbose = 2,\n",
    "                  theta=0.1,pca=T)\n"
   ]
  },
  {
   "cell_type": "code",
   "execution_count": null,
   "metadata": {
    "collapsed": true
   },
   "outputs": [],
   "source": [
    "plot(tsne_out$Y[,1],tsne_out$Y[,2],pch = 20,xlab='tSNE_1',ylab='tSNE_2',\n",
    "     col=c(\"darkgreen\",\"grey\",\"black\",\"darkred\",\"blue\",\"orange\",\"red\")[as.numeric(meta$clusterboot2)])"
   ]
  }
 ],
 "metadata": {
  "kernelspec": {
   "display_name": "R",
   "language": "R",
   "name": "ir"
  },
  "language_info": {
   "codemirror_mode": "r",
   "file_extension": ".r",
   "mimetype": "text/x-r-source",
   "name": "R",
   "pygments_lexer": "r",
   "version": "3.3.1"
  }
 },
 "nbformat": 4,
 "nbformat_minor": 1
}
