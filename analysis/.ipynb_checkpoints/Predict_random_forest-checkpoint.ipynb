{
 "cells": [
  {
   "cell_type": "code",
   "execution_count": 1,
   "metadata": {
    "collapsed": false
   },
   "outputs": [
    {
     "name": "stderr",
     "output_type": "stream",
     "text": [
      "Loading required package: lattice\n"
     ]
    },
    {
     "data": {
      "text/html": [
       "<table>\n",
       "<thead><tr><th scope=col>biomart</th><th scope=col>version</th></tr></thead>\n",
       "<tbody>\n",
       "\t<tr><td>ENSEMBL_MART_ENSEMBL </td><td>Ensembl Genes 88     </td></tr>\n",
       "\t<tr><td>ENSEMBL_MART_MOUSE   </td><td>Mouse strains 88     </td></tr>\n",
       "\t<tr><td>ENSEMBL_MART_SNP     </td><td>Ensembl Variation 88 </td></tr>\n",
       "\t<tr><td>ENSEMBL_MART_FUNCGEN </td><td>Ensembl Regulation 88</td></tr>\n",
       "\t<tr><td>ENSEMBL_MART_VEGA    </td><td>Vega                 </td></tr>\n",
       "</tbody>\n",
       "</table>\n"
      ],
      "text/latex": [
       "\\begin{tabular}{r|ll}\n",
       " biomart & version\\\\\n",
       "\\hline\n",
       "\t ENSEMBL\\_MART\\_ENSEMBL & Ensembl Genes 88        \\\\\n",
       "\t ENSEMBL\\_MART\\_MOUSE   & Mouse strains 88        \\\\\n",
       "\t ENSEMBL\\_MART\\_SNP     & Ensembl Variation 88    \\\\\n",
       "\t ENSEMBL\\_MART\\_FUNCGEN & Ensembl Regulation 88   \\\\\n",
       "\t ENSEMBL\\_MART\\_VEGA    & Vega                    \\\\\n",
       "\\end{tabular}\n"
      ],
      "text/markdown": [
       "\n",
       "biomart | version | \n",
       "|---|---|---|---|---|\n",
       "| ENSEMBL_MART_ENSEMBL  | Ensembl Genes 88      | \n",
       "| ENSEMBL_MART_MOUSE    | Mouse strains 88      | \n",
       "| ENSEMBL_MART_SNP      | Ensembl Variation 88  | \n",
       "| ENSEMBL_MART_FUNCGEN  | Ensembl Regulation 88 | \n",
       "| ENSEMBL_MART_VEGA     | Vega                  | \n",
       "\n",
       "\n"
      ],
      "text/plain": [
       "  biomart              version              \n",
       "1 ENSEMBL_MART_ENSEMBL Ensembl Genes 88     \n",
       "2 ENSEMBL_MART_MOUSE   Mouse strains 88     \n",
       "3 ENSEMBL_MART_SNP     Ensembl Variation 88 \n",
       "4 ENSEMBL_MART_FUNCGEN Ensembl Regulation 88\n",
       "5 ENSEMBL_MART_VEGA    Vega                 "
      ]
     },
     "metadata": {},
     "output_type": "display_data"
    }
   ],
   "source": [
    "library(ggplot2)\n",
    "library(caret)\n",
    "library(biomaRt)\n",
    "listMarts(host=\"www.ensembl.org\")\n",
    "ensembl = useMart(biomart = \"ENSEMBL_MART_ENSEMBL\",\n",
    "                  dataset=\"mmusculus_gene_ensembl\",\n",
    "                  host = \"oct2016.archive.ensembl.org\")"
   ]
  },
  {
   "cell_type": "code",
   "execution_count": 2,
   "metadata": {
    "collapsed": false
   },
   "outputs": [
    {
     "data": {
      "text/html": [
       "<table>\n",
       "<thead><tr><th scope=col>ensembl_gene_id</th><th scope=col>meanNormCount</th><th scope=col>P2272_1004</th><th scope=col>P2272_1005</th><th scope=col>P2272_1006</th><th scope=col>P2272_1009</th><th scope=col>P2272_1010</th><th scope=col>P2272_1012</th><th scope=col>P2272_1013</th><th scope=col>P2272_1014</th><th scope=col>⋯</th><th scope=col>P7657_1181</th><th scope=col>P7657_1182</th><th scope=col>P7657_1184</th><th scope=col>P7657_1185</th><th scope=col>P7657_1186</th><th scope=col>P7657_1187</th><th scope=col>P7657_1188</th><th scope=col>P7657_1190</th><th scope=col>P7657_1191</th><th scope=col>P7657_1192</th></tr></thead>\n",
       "<tbody>\n",
       "\t<tr><td>ENSMUSG00000000001</td><td> 120.224183       </td><td> 0.0000000        </td><td>0.6842291         </td><td> 9.6277601        </td><td> 0.2338652        </td><td>0.000000          </td><td>0.000000          </td><td>0.000000          </td><td>0.4840486         </td><td>⋯                 </td><td> 0.00000          </td><td>0.000000          </td><td>7.418372          </td><td> 0.0000000        </td><td> 0.00000          </td><td> 0.00000          </td><td>1.099338          </td><td> 7.092704         </td><td> 0.00000          </td><td>0.000000          </td></tr>\n",
       "\t<tr><td>ENSMUSG00000000031</td><td> 413.967552       </td><td> 0.0000000        </td><td>0.3823038         </td><td> 0.2446205        </td><td> 0.0000000        </td><td>0.000000          </td><td>0.000000          </td><td>0.000000          </td><td>0.0000000         </td><td>⋯                 </td><td> 0.00000          </td><td>0.000000          </td><td>0.000000          </td><td> 0.0000000        </td><td> 0.00000          </td><td> 0.00000          </td><td>0.000000          </td><td> 0.000000         </td><td> 0.00000          </td><td>0.000000          </td></tr>\n",
       "\t<tr><td>ENSMUSG00000000056</td><td>  33.739029       </td><td> 0.3374374        </td><td>5.2136259         </td><td> 0.0000000        </td><td> 3.5309297        </td><td>2.275288          </td><td>0.000000          </td><td>0.000000          </td><td>0.0000000         </td><td>⋯                 </td><td> 0.00000          </td><td>0.000000          </td><td>0.000000          </td><td> 0.8570245        </td><td> 0.00000          </td><td> 0.00000          </td><td>7.592088          </td><td> 0.000000         </td><td> 0.00000          </td><td>0.000000          </td></tr>\n",
       "\t<tr><td>ENSMUSG00000000058</td><td> 100.081963       </td><td> 0.3374374        </td><td>0.0000000         </td><td> 0.0000000        </td><td> 6.7239529        </td><td>2.275288          </td><td>0.000000          </td><td>0.000000          </td><td>0.0000000         </td><td>⋯                 </td><td> 0.00000          </td><td>0.000000          </td><td>9.136075          </td><td> 0.0000000        </td><td> 0.00000          </td><td> 0.00000          </td><td>0.000000          </td><td> 0.000000         </td><td>10.01324          </td><td>8.492850          </td></tr>\n",
       "\t<tr><td>ENSMUSG00000000078</td><td>2210.421383       </td><td>12.4018545        </td><td>2.4728317         </td><td>10.2844352        </td><td>11.3578432        </td><td>3.333222          </td><td>3.732372          </td><td>2.807135          </td><td>8.4172492         </td><td>⋯                 </td><td>13.05936          </td><td>4.414935          </td><td>4.560177          </td><td>11.3359410        </td><td>11.00922          </td><td>10.76684          </td><td>7.998825          </td><td>11.794868         </td><td>11.43066          </td><td>7.829718          </td></tr>\n",
       "\t<tr><td>ENSMUSG00000000093</td><td>   3.723828       </td><td> 0.0000000        </td><td>0.0000000         </td><td> 0.0000000        </td><td> 0.0000000        </td><td>0.000000          </td><td>0.000000          </td><td>0.000000          </td><td>0.0000000         </td><td>⋯                 </td><td> 0.00000          </td><td>0.000000          </td><td>2.589828          </td><td> 0.0000000        </td><td> 0.00000          </td><td> 0.00000          </td><td>0.000000          </td><td> 0.000000         </td><td> 0.00000          </td><td>0.000000          </td></tr>\n",
       "</tbody>\n",
       "</table>\n"
      ],
      "text/latex": [
       "\\begin{tabular}{r|lllllllllllllllllllllllllllllllllllllllllllllllllllllllllllllllllllllllllllllllllllllllllllllllllllllllllllllllllllllllllllllllllllllllllllllllllllllllllllllllllllllllllllllllllllllllllllllllllllllllllllllllllllllllllllllllllllllllllllllllllllllllllllllllllllllllllllllllllllllllllllllllllllllllllllllllllllllllllllllllllllllllllllllllllllllllllllllllllllllllllllllllllllllllllllllllllllllllllllllllllllllllllllllllllll}\n",
       " ensembl\\_gene\\_id & meanNormCount & P2272\\_1004 & P2272\\_1005 & P2272\\_1006 & P2272\\_1009 & P2272\\_1010 & P2272\\_1012 & P2272\\_1013 & P2272\\_1014 & ⋯ & P7657\\_1181 & P7657\\_1182 & P7657\\_1184 & P7657\\_1185 & P7657\\_1186 & P7657\\_1187 & P7657\\_1188 & P7657\\_1190 & P7657\\_1191 & P7657\\_1192\\\\\n",
       "\\hline\n",
       "\t ENSMUSG00000000001 &  120.224183        &  0.0000000         & 0.6842291          &  9.6277601         &  0.2338652         & 0.000000           & 0.000000           & 0.000000           & 0.4840486          & ⋯                  &  0.00000           & 0.000000           & 7.418372           &  0.0000000         &  0.00000           &  0.00000           & 1.099338           &  7.092704          &  0.00000           & 0.000000          \\\\\n",
       "\t ENSMUSG00000000031 &  413.967552        &  0.0000000         & 0.3823038          &  0.2446205         &  0.0000000         & 0.000000           & 0.000000           & 0.000000           & 0.0000000          & ⋯                  &  0.00000           & 0.000000           & 0.000000           &  0.0000000         &  0.00000           &  0.00000           & 0.000000           &  0.000000          &  0.00000           & 0.000000          \\\\\n",
       "\t ENSMUSG00000000056 &   33.739029        &  0.3374374         & 5.2136259          &  0.0000000         &  3.5309297         & 2.275288           & 0.000000           & 0.000000           & 0.0000000          & ⋯                  &  0.00000           & 0.000000           & 0.000000           &  0.8570245         &  0.00000           &  0.00000           & 7.592088           &  0.000000          &  0.00000           & 0.000000          \\\\\n",
       "\t ENSMUSG00000000058 &  100.081963        &  0.3374374         & 0.0000000          &  0.0000000         &  6.7239529         & 2.275288           & 0.000000           & 0.000000           & 0.0000000          & ⋯                  &  0.00000           & 0.000000           & 9.136075           &  0.0000000         &  0.00000           &  0.00000           & 0.000000           &  0.000000          & 10.01324           & 8.492850          \\\\\n",
       "\t ENSMUSG00000000078 & 2210.421383        & 12.4018545         & 2.4728317          & 10.2844352         & 11.3578432         & 3.333222           & 3.732372           & 2.807135           & 8.4172492          & ⋯                  & 13.05936           & 4.414935           & 4.560177           & 11.3359410         & 11.00922           & 10.76684           & 7.998825           & 11.794868          & 11.43066           & 7.829718          \\\\\n",
       "\t ENSMUSG00000000093 &    3.723828        &  0.0000000         & 0.0000000          &  0.0000000         &  0.0000000         & 0.000000           & 0.000000           & 0.000000           & 0.0000000          & ⋯                  &  0.00000           & 0.000000           & 2.589828           &  0.0000000         &  0.00000           &  0.00000           & 0.000000           &  0.000000          &  0.00000           & 0.000000          \\\\\n",
       "\\end{tabular}\n"
      ],
      "text/markdown": [
       "\n",
       "ensembl_gene_id | meanNormCount | P2272_1004 | P2272_1005 | P2272_1006 | P2272_1009 | P2272_1010 | P2272_1012 | P2272_1013 | P2272_1014 | ⋯ | P7657_1181 | P7657_1182 | P7657_1184 | P7657_1185 | P7657_1186 | P7657_1187 | P7657_1188 | P7657_1190 | P7657_1191 | P7657_1192 | \n",
       "|---|---|---|---|---|---|\n",
       "| ENSMUSG00000000001 |  120.224183        |  0.0000000         | 0.6842291          |  9.6277601         |  0.2338652         | 0.000000           | 0.000000           | 0.000000           | 0.4840486          | ⋯                  |  0.00000           | 0.000000           | 7.418372           |  0.0000000         |  0.00000           |  0.00000           | 1.099338           |  7.092704          |  0.00000           | 0.000000           | \n",
       "| ENSMUSG00000000031 |  413.967552        |  0.0000000         | 0.3823038          |  0.2446205         |  0.0000000         | 0.000000           | 0.000000           | 0.000000           | 0.0000000          | ⋯                  |  0.00000           | 0.000000           | 0.000000           |  0.0000000         |  0.00000           |  0.00000           | 0.000000           |  0.000000          |  0.00000           | 0.000000           | \n",
       "| ENSMUSG00000000056 |   33.739029        |  0.3374374         | 5.2136259          |  0.0000000         |  3.5309297         | 2.275288           | 0.000000           | 0.000000           | 0.0000000          | ⋯                  |  0.00000           | 0.000000           | 0.000000           |  0.8570245         |  0.00000           |  0.00000           | 7.592088           |  0.000000          |  0.00000           | 0.000000           | \n",
       "| ENSMUSG00000000058 |  100.081963        |  0.3374374         | 0.0000000          |  0.0000000         |  6.7239529         | 2.275288           | 0.000000           | 0.000000           | 0.0000000          | ⋯                  |  0.00000           | 0.000000           | 9.136075           |  0.0000000         |  0.00000           |  0.00000           | 0.000000           |  0.000000          | 10.01324           | 8.492850           | \n",
       "| ENSMUSG00000000078 | 2210.421383        | 12.4018545         | 2.4728317          | 10.2844352         | 11.3578432         | 3.333222           | 3.732372           | 2.807135           | 8.4172492          | ⋯                  | 13.05936           | 4.414935           | 4.560177           | 11.3359410         | 11.00922           | 10.76684           | 7.998825           | 11.794868          | 11.43066           | 7.829718           | \n",
       "| ENSMUSG00000000093 |    3.723828        |  0.0000000         | 0.0000000          |  0.0000000         |  0.0000000         | 0.000000           | 0.000000           | 0.000000           | 0.0000000          | ⋯                  |  0.00000           | 0.000000           | 2.589828           |  0.0000000         |  0.00000           |  0.00000           | 0.000000           |  0.000000          |  0.00000           | 0.000000           | \n",
       "\n",
       "\n"
      ],
      "text/plain": [
       "  ensembl_gene_id    meanNormCount P2272_1004 P2272_1005 P2272_1006 P2272_1009\n",
       "1 ENSMUSG00000000001  120.224183    0.0000000 0.6842291   9.6277601  0.2338652\n",
       "2 ENSMUSG00000000031  413.967552    0.0000000 0.3823038   0.2446205  0.0000000\n",
       "3 ENSMUSG00000000056   33.739029    0.3374374 5.2136259   0.0000000  3.5309297\n",
       "4 ENSMUSG00000000058  100.081963    0.3374374 0.0000000   0.0000000  6.7239529\n",
       "5 ENSMUSG00000000078 2210.421383   12.4018545 2.4728317  10.2844352 11.3578432\n",
       "6 ENSMUSG00000000093    3.723828    0.0000000 0.0000000   0.0000000  0.0000000\n",
       "  P2272_1010 P2272_1012 P2272_1013 P2272_1014 ⋯ P7657_1181 P7657_1182\n",
       "1 0.000000   0.000000   0.000000   0.4840486  ⋯  0.00000   0.000000  \n",
       "2 0.000000   0.000000   0.000000   0.0000000  ⋯  0.00000   0.000000  \n",
       "3 2.275288   0.000000   0.000000   0.0000000  ⋯  0.00000   0.000000  \n",
       "4 2.275288   0.000000   0.000000   0.0000000  ⋯  0.00000   0.000000  \n",
       "5 3.333222   3.732372   2.807135   8.4172492  ⋯ 13.05936   4.414935  \n",
       "6 0.000000   0.000000   0.000000   0.0000000  ⋯  0.00000   0.000000  \n",
       "  P7657_1184 P7657_1185 P7657_1186 P7657_1187 P7657_1188 P7657_1190 P7657_1191\n",
       "1 7.418372    0.0000000  0.00000    0.00000   1.099338    7.092704   0.00000  \n",
       "2 0.000000    0.0000000  0.00000    0.00000   0.000000    0.000000   0.00000  \n",
       "3 0.000000    0.8570245  0.00000    0.00000   7.592088    0.000000   0.00000  \n",
       "4 9.136075    0.0000000  0.00000    0.00000   0.000000    0.000000  10.01324  \n",
       "5 4.560177   11.3359410 11.00922   10.76684   7.998825   11.794868  11.43066  \n",
       "6 2.589828    0.0000000  0.00000    0.00000   0.000000    0.000000   0.00000  \n",
       "  P7657_1192\n",
       "1 0.000000  \n",
       "2 0.000000  \n",
       "3 0.000000  \n",
       "4 8.492850  \n",
       "5 7.829718  \n",
       "6 0.000000  "
      ]
     },
     "metadata": {},
     "output_type": "display_data"
    },
    {
     "data": {
      "text/html": [
       "<table>\n",
       "<thead><tr><th></th><th scope=col>cell</th><th scope=col>Sample</th><th scope=col>N_primer</th><th scope=col>S_primer</th><th scope=col>Library</th><th scope=col>Stage</th><th scope=col>Individual</th><th scope=col>Sample_type</th><th scope=col>Sorting_Date</th><th scope=col>Plate.well</th><th scope=col>ERCC</th><th scope=col>Library_Preparation</th><th scope=col>Sequencing</th><th scope=col>Batch_seq</th><th scope=col>clusterboot</th><th scope=col>clusterboot2</th></tr></thead>\n",
       "<tbody>\n",
       "\t<tr><th scope=row>P2272_1004</th><td>P2272_1004</td><td>S48       </td><td>N703      </td><td>S504      </td><td>L234      </td><td>P2        </td><td>m1        </td><td>single    </td><td>2/5/2015  </td><td>1-1/G1    </td><td>1410014   </td><td>5/20/2015 </td><td>pair-end  </td><td>batch_1   </td><td>2         </td><td>1         </td></tr>\n",
       "\t<tr><th scope=row>P2272_1005</th><td>P2272_1005</td><td>S49       </td><td>N701      </td><td>S517      </td><td>L236      </td><td>P2        </td><td>m1        </td><td>single    </td><td>2/5/2015  </td><td>1-1/A2    </td><td>1410014   </td><td>5/20/2015 </td><td>pair-end  </td><td>batch_1   </td><td>1         </td><td>1         </td></tr>\n",
       "\t<tr><th scope=row>P2272_1006</th><td>P2272_1006</td><td>S50       </td><td>N701      </td><td>S502      </td><td>L239      </td><td>P2        </td><td>m1        </td><td>single    </td><td>2/5/2015  </td><td>1-1/D2    </td><td>1410014   </td><td>5/20/2015 </td><td>pair-end  </td><td>batch_1   </td><td>2         </td><td>2         </td></tr>\n",
       "\t<tr><th scope=row>P2272_1009</th><td>P2272_1009</td><td>S53       </td><td>N702      </td><td>S517      </td><td>L246      </td><td>P2        </td><td>m1        </td><td>single    </td><td>2/5/2015  </td><td>1-1/C3    </td><td>1410014   </td><td>5/20/2015 </td><td>pair-end  </td><td>batch_1   </td><td>3         </td><td>3         </td></tr>\n",
       "\t<tr><th scope=row>P2272_1010</th><td>P2272_1010</td><td>S54       </td><td>N702      </td><td>S502      </td><td>L253      </td><td>P21       </td><td>m1        </td><td>single    </td><td>1/15/2015 </td><td>2-1/B1    </td><td>1310010   </td><td>5/29/2015 </td><td>pair-end  </td><td>batch_1   </td><td>2         </td><td>2         </td></tr>\n",
       "\t<tr><th scope=row>P2272_1012</th><td>P2272_1012</td><td>S56       </td><td>N702      </td><td>S504      </td><td>L257      </td><td>P21       </td><td>m1        </td><td>single    </td><td>1/15/2015 </td><td>2-1/F1    </td><td>1310010   </td><td>5/29/2015 </td><td>pair-end  </td><td>batch_1   </td><td>2         </td><td>2         </td></tr>\n",
       "</tbody>\n",
       "</table>\n"
      ],
      "text/latex": [
       "\\begin{tabular}{r|llllllllllllllll}\n",
       "  & cell & Sample & N\\_primer & S\\_primer & Library & Stage & Individual & Sample\\_type & Sorting\\_Date & Plate.well & ERCC & Library\\_Preparation & Sequencing & Batch\\_seq & clusterboot & clusterboot2\\\\\n",
       "\\hline\n",
       "\tP2272\\_1004 & P2272\\_1004 & S48          & N703         & S504         & L234         & P2           & m1           & single       & 2/5/2015     & 1-1/G1       & 1410014      & 5/20/2015    & pair-end     & batch\\_1    & 2            & 1           \\\\\n",
       "\tP2272\\_1005 & P2272\\_1005 & S49          & N701         & S517         & L236         & P2           & m1           & single       & 2/5/2015     & 1-1/A2       & 1410014      & 5/20/2015    & pair-end     & batch\\_1    & 1            & 1           \\\\\n",
       "\tP2272\\_1006 & P2272\\_1006 & S50          & N701         & S502         & L239         & P2           & m1           & single       & 2/5/2015     & 1-1/D2       & 1410014      & 5/20/2015    & pair-end     & batch\\_1    & 2            & 2           \\\\\n",
       "\tP2272\\_1009 & P2272\\_1009 & S53          & N702         & S517         & L246         & P2           & m1           & single       & 2/5/2015     & 1-1/C3       & 1410014      & 5/20/2015    & pair-end     & batch\\_1    & 3            & 3           \\\\\n",
       "\tP2272\\_1010 & P2272\\_1010 & S54          & N702         & S502         & L253         & P21          & m1           & single       & 1/15/2015    & 2-1/B1       & 1310010      & 5/29/2015    & pair-end     & batch\\_1    & 2            & 2           \\\\\n",
       "\tP2272\\_1012 & P2272\\_1012 & S56          & N702         & S504         & L257         & P21          & m1           & single       & 1/15/2015    & 2-1/F1       & 1310010      & 5/29/2015    & pair-end     & batch\\_1    & 2            & 2           \\\\\n",
       "\\end{tabular}\n"
      ],
      "text/markdown": [
       "\n",
       "| <!--/--> | cell | Sample | N_primer | S_primer | Library | Stage | Individual | Sample_type | Sorting_Date | Plate.well | ERCC | Library_Preparation | Sequencing | Batch_seq | clusterboot | clusterboot2 | \n",
       "|---|---|---|---|---|---|\n",
       "| P2272_1004 | P2272_1004 | S48        | N703       | S504       | L234       | P2         | m1         | single     | 2/5/2015   | 1-1/G1     | 1410014    | 5/20/2015  | pair-end   | batch_1    | 2          | 1          | \n",
       "| P2272_1005 | P2272_1005 | S49        | N701       | S517       | L236       | P2         | m1         | single     | 2/5/2015   | 1-1/A2     | 1410014    | 5/20/2015  | pair-end   | batch_1    | 1          | 1          | \n",
       "| P2272_1006 | P2272_1006 | S50        | N701       | S502       | L239       | P2         | m1         | single     | 2/5/2015   | 1-1/D2     | 1410014    | 5/20/2015  | pair-end   | batch_1    | 2          | 2          | \n",
       "| P2272_1009 | P2272_1009 | S53        | N702       | S517       | L246       | P2         | m1         | single     | 2/5/2015   | 1-1/C3     | 1410014    | 5/20/2015  | pair-end   | batch_1    | 3          | 3          | \n",
       "| P2272_1010 | P2272_1010 | S54        | N702       | S502       | L253       | P21        | m1         | single     | 1/15/2015  | 2-1/B1     | 1310010    | 5/29/2015  | pair-end   | batch_1    | 2          | 2          | \n",
       "| P2272_1012 | P2272_1012 | S56        | N702       | S504       | L257       | P21        | m1         | single     | 1/15/2015  | 2-1/F1     | 1310010    | 5/29/2015  | pair-end   | batch_1    | 2          | 2          | \n",
       "\n",
       "\n"
      ],
      "text/plain": [
       "           cell       Sample N_primer S_primer Library Stage Individual\n",
       "P2272_1004 P2272_1004 S48    N703     S504     L234    P2    m1        \n",
       "P2272_1005 P2272_1005 S49    N701     S517     L236    P2    m1        \n",
       "P2272_1006 P2272_1006 S50    N701     S502     L239    P2    m1        \n",
       "P2272_1009 P2272_1009 S53    N702     S517     L246    P2    m1        \n",
       "P2272_1010 P2272_1010 S54    N702     S502     L253    P21   m1        \n",
       "P2272_1012 P2272_1012 S56    N702     S504     L257    P21   m1        \n",
       "           Sample_type Sorting_Date Plate.well ERCC    Library_Preparation\n",
       "P2272_1004 single      2/5/2015     1-1/G1     1410014 5/20/2015          \n",
       "P2272_1005 single      2/5/2015     1-1/A2     1410014 5/20/2015          \n",
       "P2272_1006 single      2/5/2015     1-1/D2     1410014 5/20/2015          \n",
       "P2272_1009 single      2/5/2015     1-1/C3     1410014 5/20/2015          \n",
       "P2272_1010 single      1/15/2015    2-1/B1     1310010 5/29/2015          \n",
       "P2272_1012 single      1/15/2015    2-1/F1     1310010 5/29/2015          \n",
       "           Sequencing Batch_seq clusterboot clusterboot2\n",
       "P2272_1004 pair-end   batch_1   2           1           \n",
       "P2272_1005 pair-end   batch_1   1           1           \n",
       "P2272_1006 pair-end   batch_1   2           2           \n",
       "P2272_1009 pair-end   batch_1   3           3           \n",
       "P2272_1010 pair-end   batch_1   2           2           \n",
       "P2272_1012 pair-end   batch_1   2           2           "
      ]
     },
     "metadata": {},
     "output_type": "display_data"
    }
   ],
   "source": [
    "cd <- read.csv('/home/rstudio/SingleCellProject/R_wdir/Final_data/highly_variant_genes_all_417.csv', header =T)\n",
    "meta <- read.csv('/home/rstudio/SingleCellProject/R_wdir/Final_data/metadata_all_filtered_final_417.csv',row.names=1)\n",
    "head(cd)\n",
    "head(meta)"
   ]
  },
  {
   "cell_type": "code",
   "execution_count": 3,
   "metadata": {
    "collapsed": false
   },
   "outputs": [
    {
     "data": {
      "text/html": [
       "<table>\n",
       "<thead><tr><th></th><th scope=col>1110017D15Rik</th><th scope=col>1700007K13Rik</th><th scope=col>2310007B03Rik</th><th scope=col>2610028H24Rik</th><th scope=col>4930523C07Rik</th><th scope=col>5330417C22Rik</th><th scope=col>8430408G22Rik</th><th scope=col>Abcc3</th><th scope=col>Abcg1</th><th scope=col>Ace</th><th scope=col>⋯</th><th scope=col>Ubxn10</th><th scope=col>Upk3a</th><th scope=col>Vars</th><th scope=col>Vim</th><th scope=col>Wdfy1</th><th scope=col>Wdr6</th><th scope=col>Wdr66</th><th scope=col>Zbtb38</th><th scope=col>Zfyve26</th><th scope=col>Zyx</th></tr></thead>\n",
       "<tbody>\n",
       "\t<tr><th scope=row>P2272_1004</th><td>0         </td><td>0         </td><td>7.4108634 </td><td>0.0000000 </td><td>8.8855344 </td><td>11.2224671</td><td>7.7983884 </td><td>8.031283  </td><td>0.0000000 </td><td>0         </td><td>⋯         </td><td>0         </td><td>4.5644930 </td><td>5.9326362 </td><td>1.367965  </td><td>7.1865316 </td><td>0.0000000 </td><td>0         </td><td>10.0249534</td><td>9.8892293 </td><td>2.145884  </td></tr>\n",
       "\t<tr><th scope=row>P2272_1005</th><td>0         </td><td>0         </td><td>0.0000000 </td><td>0.0000000 </td><td>0.0000000 </td><td> 0.9337725</td><td>0.0000000 </td><td>5.116023  </td><td>0.3823038 </td><td>0         </td><td>⋯         </td><td>0         </td><td>7.7291544 </td><td>9.2475552 </td><td>0.000000  </td><td>0.0000000 </td><td>0.0000000 </td><td>0         </td><td> 8.7091116</td><td>0.3823038 </td><td>9.932373  </td></tr>\n",
       "\t<tr><th scope=row>P2272_1006</th><td>0         </td><td>0         </td><td>0.0000000 </td><td>0.0000000 </td><td>0.6363052 </td><td>10.0638376</td><td>0.0000000 </td><td>8.632272  </td><td>0.0000000 </td><td>0         </td><td>⋯         </td><td>0         </td><td>0.0000000 </td><td>0.2446205 </td><td>0.000000  </td><td>0.4537148 </td><td>0.2446205 </td><td>0         </td><td> 0.2446205</td><td>9.7609252 </td><td>1.197531  </td></tr>\n",
       "\t<tr><th scope=row>P2272_1009</th><td>0         </td><td>0         </td><td>0.0000000 </td><td>7.8150644 </td><td>5.8408163 </td><td> 4.4671333</td><td>0.2338652 </td><td>8.678173  </td><td>0.2338652 </td><td>0         </td><td>⋯         </td><td>0         </td><td>0.2338652 </td><td>0.0000000 </td><td>0.000000  </td><td>9.0421633 </td><td>1.9969970 </td><td>0         </td><td> 0.2338652</td><td>4.4439909 </td><td>8.211755  </td></tr>\n",
       "\t<tr><th scope=row>P2272_1010</th><td>0         </td><td>0         </td><td>0.4320793 </td><td>0.0000000 </td><td>9.2779583 </td><td>10.0157793</td><td>3.5637045 </td><td>8.672920  </td><td>0.0000000 </td><td>0         </td><td>⋯         </td><td>0         </td><td>4.9716986 </td><td>2.6410027 </td><td>0.000000  </td><td>5.3751957 </td><td>6.3881012 </td><td>0         </td><td> 0.0000000</td><td>7.7129235 </td><td>2.557894  </td></tr>\n",
       "\t<tr><th scope=row>P2272_1012</th><td>0         </td><td>0         </td><td>4.0411378 </td><td>0.2609181 </td><td>2.1276654 </td><td> 2.0606895</td><td>9.3320150 </td><td>0.000000  </td><td>0.0000000 </td><td>0         </td><td>⋯         </td><td>0         </td><td>4.1254862 </td><td>0.0000000 </td><td>8.499043  </td><td>0.2609181 </td><td>0.2609181 </td><td>0         </td><td> 8.9645608</td><td>8.2855879 </td><td>7.183084  </td></tr>\n",
       "</tbody>\n",
       "</table>\n"
      ],
      "text/latex": [
       "\\begin{tabular}{r|lllllllllllllllllllllllllllllllllllllllllllllllllllllllllllllllllllllllllllllllllllllllllllllllllllllllllllllllllllllllllllllllllllllllllllllllllllllllllllllllllllllllllllllllllllllllllllllllllllllllllllllllllllllllllllllllllllllllllllllllllllllllllllllllllllllllllllllllllllllllllllllllllllllllllllllllllllllllllllllllllllllllllllllllllllllllllllllllllllllllllllllllllllllllllllllllllllllllll}\n",
       "  & 1110017D15Rik & 1700007K13Rik & 2310007B03Rik & 2610028H24Rik & 4930523C07Rik & 5330417C22Rik & 8430408G22Rik & Abcc3 & Abcg1 & Ace & ⋯ & Ubxn10 & Upk3a & Vars & Vim & Wdfy1 & Wdr6 & Wdr66 & Zbtb38 & Zfyve26 & Zyx\\\\\n",
       "\\hline\n",
       "\tP2272\\_1004 & 0          & 0          & 7.4108634  & 0.0000000  & 8.8855344  & 11.2224671 & 7.7983884  & 8.031283   & 0.0000000  & 0          & ⋯          & 0          & 4.5644930  & 5.9326362  & 1.367965   & 7.1865316  & 0.0000000  & 0          & 10.0249534 & 9.8892293  & 2.145884  \\\\\n",
       "\tP2272\\_1005 & 0          & 0          & 0.0000000  & 0.0000000  & 0.0000000  &  0.9337725 & 0.0000000  & 5.116023   & 0.3823038  & 0          & ⋯          & 0          & 7.7291544  & 9.2475552  & 0.000000   & 0.0000000  & 0.0000000  & 0          &  8.7091116 & 0.3823038  & 9.932373  \\\\\n",
       "\tP2272\\_1006 & 0          & 0          & 0.0000000  & 0.0000000  & 0.6363052  & 10.0638376 & 0.0000000  & 8.632272   & 0.0000000  & 0          & ⋯          & 0          & 0.0000000  & 0.2446205  & 0.000000   & 0.4537148  & 0.2446205  & 0          &  0.2446205 & 9.7609252  & 1.197531  \\\\\n",
       "\tP2272\\_1009 & 0          & 0          & 0.0000000  & 7.8150644  & 5.8408163  &  4.4671333 & 0.2338652  & 8.678173   & 0.2338652  & 0          & ⋯          & 0          & 0.2338652  & 0.0000000  & 0.000000   & 9.0421633  & 1.9969970  & 0          &  0.2338652 & 4.4439909  & 8.211755  \\\\\n",
       "\tP2272\\_1010 & 0          & 0          & 0.4320793  & 0.0000000  & 9.2779583  & 10.0157793 & 3.5637045  & 8.672920   & 0.0000000  & 0          & ⋯          & 0          & 4.9716986  & 2.6410027  & 0.000000   & 5.3751957  & 6.3881012  & 0          &  0.0000000 & 7.7129235  & 2.557894  \\\\\n",
       "\tP2272\\_1012 & 0          & 0          & 4.0411378  & 0.2609181  & 2.1276654  &  2.0606895 & 9.3320150  & 0.000000   & 0.0000000  & 0          & ⋯          & 0          & 4.1254862  & 0.0000000  & 8.499043   & 0.2609181  & 0.2609181  & 0          &  8.9645608 & 8.2855879  & 7.183084  \\\\\n",
       "\\end{tabular}\n"
      ],
      "text/markdown": [
       "\n",
       "| <!--/--> | 1110017D15Rik | 1700007K13Rik | 2310007B03Rik | 2610028H24Rik | 4930523C07Rik | 5330417C22Rik | 8430408G22Rik | Abcc3 | Abcg1 | Ace | ⋯ | Ubxn10 | Upk3a | Vars | Vim | Wdfy1 | Wdr6 | Wdr66 | Zbtb38 | Zfyve26 | Zyx | \n",
       "|---|---|---|---|---|---|\n",
       "| P2272_1004 | 0          | 0          | 7.4108634  | 0.0000000  | 8.8855344  | 11.2224671 | 7.7983884  | 8.031283   | 0.0000000  | 0          | ⋯          | 0          | 4.5644930  | 5.9326362  | 1.367965   | 7.1865316  | 0.0000000  | 0          | 10.0249534 | 9.8892293  | 2.145884   | \n",
       "| P2272_1005 | 0          | 0          | 0.0000000  | 0.0000000  | 0.0000000  |  0.9337725 | 0.0000000  | 5.116023   | 0.3823038  | 0          | ⋯          | 0          | 7.7291544  | 9.2475552  | 0.000000   | 0.0000000  | 0.0000000  | 0          |  8.7091116 | 0.3823038  | 9.932373   | \n",
       "| P2272_1006 | 0          | 0          | 0.0000000  | 0.0000000  | 0.6363052  | 10.0638376 | 0.0000000  | 8.632272   | 0.0000000  | 0          | ⋯          | 0          | 0.0000000  | 0.2446205  | 0.000000   | 0.4537148  | 0.2446205  | 0          |  0.2446205 | 9.7609252  | 1.197531   | \n",
       "| P2272_1009 | 0          | 0          | 0.0000000  | 7.8150644  | 5.8408163  |  4.4671333 | 0.2338652  | 8.678173   | 0.2338652  | 0          | ⋯          | 0          | 0.2338652  | 0.0000000  | 0.000000   | 9.0421633  | 1.9969970  | 0          |  0.2338652 | 4.4439909  | 8.211755   | \n",
       "| P2272_1010 | 0          | 0          | 0.4320793  | 0.0000000  | 9.2779583  | 10.0157793 | 3.5637045  | 8.672920   | 0.0000000  | 0          | ⋯          | 0          | 4.9716986  | 2.6410027  | 0.000000   | 5.3751957  | 6.3881012  | 0          |  0.0000000 | 7.7129235  | 2.557894   | \n",
       "| P2272_1012 | 0          | 0          | 4.0411378  | 0.2609181  | 2.1276654  |  2.0606895 | 9.3320150  | 0.000000   | 0.0000000  | 0          | ⋯          | 0          | 4.1254862  | 0.0000000  | 8.499043   | 0.2609181  | 0.2609181  | 0          |  8.9645608 | 8.2855879  | 7.183084   | \n",
       "\n",
       "\n"
      ],
      "text/plain": [
       "           1110017D15Rik 1700007K13Rik 2310007B03Rik 2610028H24Rik\n",
       "P2272_1004 0             0             7.4108634     0.0000000    \n",
       "P2272_1005 0             0             0.0000000     0.0000000    \n",
       "P2272_1006 0             0             0.0000000     0.0000000    \n",
       "P2272_1009 0             0             0.0000000     7.8150644    \n",
       "P2272_1010 0             0             0.4320793     0.0000000    \n",
       "P2272_1012 0             0             4.0411378     0.2609181    \n",
       "           4930523C07Rik 5330417C22Rik 8430408G22Rik Abcc3    Abcg1     Ace ⋯\n",
       "P2272_1004 8.8855344     11.2224671    7.7983884     8.031283 0.0000000 0   ⋯\n",
       "P2272_1005 0.0000000      0.9337725    0.0000000     5.116023 0.3823038 0   ⋯\n",
       "P2272_1006 0.6363052     10.0638376    0.0000000     8.632272 0.0000000 0   ⋯\n",
       "P2272_1009 5.8408163      4.4671333    0.2338652     8.678173 0.2338652 0   ⋯\n",
       "P2272_1010 9.2779583     10.0157793    3.5637045     8.672920 0.0000000 0   ⋯\n",
       "P2272_1012 2.1276654      2.0606895    9.3320150     0.000000 0.0000000 0   ⋯\n",
       "           Ubxn10 Upk3a     Vars      Vim      Wdfy1     Wdr6      Wdr66\n",
       "P2272_1004 0      4.5644930 5.9326362 1.367965 7.1865316 0.0000000 0    \n",
       "P2272_1005 0      7.7291544 9.2475552 0.000000 0.0000000 0.0000000 0    \n",
       "P2272_1006 0      0.0000000 0.2446205 0.000000 0.4537148 0.2446205 0    \n",
       "P2272_1009 0      0.2338652 0.0000000 0.000000 9.0421633 1.9969970 0    \n",
       "P2272_1010 0      4.9716986 2.6410027 0.000000 5.3751957 6.3881012 0    \n",
       "P2272_1012 0      4.1254862 0.0000000 8.499043 0.2609181 0.2609181 0    \n",
       "           Zbtb38     Zfyve26   Zyx     \n",
       "P2272_1004 10.0249534 9.8892293 2.145884\n",
       "P2272_1005  8.7091116 0.3823038 9.932373\n",
       "P2272_1006  0.2446205 9.7609252 1.197531\n",
       "P2272_1009  0.2338652 4.4439909 8.211755\n",
       "P2272_1010  0.0000000 7.7129235 2.557894\n",
       "P2272_1012  8.9645608 8.2855879 7.183084"
      ]
     },
     "metadata": {},
     "output_type": "display_data"
    }
   ],
   "source": [
    "genes <- cd$ensembl_gene_id\n",
    "gene.list <- getBM(filters= \"ensembl_gene_id\",\n",
    "                             attributes= c(\"ensembl_gene_id\",\n",
    "                                           \"external_gene_name\"),\n",
    "                                           values=genes,\n",
    "                                           mart= ensembl)\n",
    "gene.name <- merge(cd,gene.list, by = \"ensembl_gene_id\")\n",
    "mat <- gene.name\n",
    "# Some data filtering and reshaping\n",
    "rownames(mat) <- mat[,420]\n",
    "mat <- mat[,-420]\n",
    "mat <- mat[,-1]\n",
    "mat <- mat[,-1]\n",
    "base.pca <- prcomp(t(mat))\n",
    "tail=as.vector(apply(base.pca$rotation[,1:5],2,function(x) tail(names(sort(x)),n=50)))\n",
    "head=as.vector(apply(base.pca$rotation[,1:5],2,function(x) head(names(sort(x)),n=50)))\n",
    "top.load.genes = unique(c(head,tail))\n",
    "top.load.genes <- as.data.frame(top.load.genes)\n",
    "\n",
    "colnames(top.load.genes) <- 'external_gene_name'\n",
    "top.500 <- merge(top.load.genes,gene.name,by='external_gene_name')\n",
    "\n",
    "rownames(top.500) <- top.500[,1]\n",
    "top.500 <- top.500[,-1]\n",
    "top.500 <- top.500[,-1]\n",
    "top.500 <- top.500[,-1]\n",
    "\n",
    "\n",
    "tr.top.500 <- t(top.500)\n",
    "head(tr.top.500)\n"
   ]
  },
  {
   "cell_type": "code",
   "execution_count": 34,
   "metadata": {
    "collapsed": false
   },
   "outputs": [],
   "source": [
    "model.data <- meta[meta$clusterboot2 %in% c('2','3','4','5'),]\n",
    "train.data <- tr.top.500[model.data$cell,]\n",
    "test.data <- meta[meta$clusterboot2 %in% c('1'),]\n",
    "test.data <- tr.top.500[test.data$cell,]\n",
    "\n",
    "train.data <- as.data.frame(train.data)\n",
    "train.data$clusters <- as.character(model.data$clusterboot2) \n"
   ]
  },
  {
   "cell_type": "code",
   "execution_count": 5,
   "metadata": {
    "collapsed": false
   },
   "outputs": [
    {
     "name": "stderr",
     "output_type": "stream",
     "text": [
      "Loading required package: randomForest\n",
      "randomForest 4.6-12\n",
      "Type rfNews() to see new features/changes/bug fixes.\n",
      "\n",
      "Attaching package: ‘randomForest’\n",
      "\n",
      "The following object is masked from ‘package:ggplot2’:\n",
      "\n",
      "    margin\n",
      "\n"
     ]
    }
   ],
   "source": [
    "model.fit <- train(clusters ~ ., data=train.data, method=\"rf\", prox=TRUE)"
   ]
  },
  {
   "cell_type": "code",
   "execution_count": 6,
   "metadata": {
    "collapsed": false
   },
   "outputs": [
    {
     "data": {
      "text/plain": [
       "Random Forest \n",
       "\n",
       "253 samples\n",
       "393 predictors\n",
       "  4 classes: '2', '3', '4', '5' \n",
       "\n",
       "No pre-processing\n",
       "Resampling: Bootstrapped (25 reps) \n",
       "Summary of sample sizes: 253, 253, 253, 253, 253, 253, ... \n",
       "Resampling results across tuning parameters:\n",
       "\n",
       "  mtry  Accuracy   Kappa    \n",
       "    2   0.8894473  0.7273889\n",
       "  197   0.9663451  0.9267904\n",
       "  393   0.9552242  0.9028543\n",
       "\n",
       "Accuracy was used to select the optimal model using  the largest value.\n",
       "The final value used for the model was mtry = 197. "
      ]
     },
     "metadata": {},
     "output_type": "display_data"
    }
   ],
   "source": [
    "model.fit"
   ]
  },
  {
   "cell_type": "code",
   "execution_count": 28,
   "metadata": {
    "collapsed": true
   },
   "outputs": [],
   "source": [
    "centers <- classCenter(train.data[, c('Foxj1','Scgb1a1')], train.data$clusters, model.fit$finalModel$prox)\n",
    "centers <- as.data.frame(centers); centers$clusters <- rownames(centers)"
   ]
  },
  {
   "cell_type": "code",
   "execution_count": 29,
   "metadata": {
    "collapsed": false
   },
   "outputs": [
    {
     "data": {},
     "metadata": {},
     "output_type": "display_data"
    },
    {
     "data": {},
     "metadata": {},
     "output_type": "display_data"
    },
    {
     "data": {
      "image/png": "[encoded data removed]",
      "text/plain": [
       "plot without title"
      ]
     },
     "metadata": {},
     "output_type": "display_data"
    }
   ],
   "source": [
    "p <- qplot(Foxj1, Scgb1a1, col=clusters, data=train.data)\n",
    "p + geom_point(aes(x=Foxj1, y=Scgb1a1, col=clusters), size=5, shape=4, data=irisP)\n",
    "p\n",
    "\n"
   ]
  },
  {
   "cell_type": "code",
   "execution_count": 35,
   "metadata": {
    "collapsed": false
   },
   "outputs": [
    {
     "data": {
      "text/plain": [
       "pred.class\n",
       " 2  3  4  5 \n",
       "94  5  0  2 "
      ]
     },
     "metadata": {},
     "output_type": "display_data"
    }
   ],
   "source": [
    "pred.class <- predict(model.fit, test.data)\n",
    "table(pred.class)"
   ]
  },
  {
   "cell_type": "code",
   "execution_count": 36,
   "metadata": {
    "collapsed": false
   },
   "outputs": [
    {
     "data": {
      "text/plain": [
       "R version 3.3.1 (2016-06-21)\n",
       "Platform: x86_64-pc-linux-gnu (64-bit)\n",
       "Running under: Ubuntu 16.04.1 LTS\n",
       "\n",
       "locale:\n",
       " [1] LC_CTYPE=en_US.UTF-8       LC_NUMERIC=C              \n",
       " [3] LC_TIME=en_US.UTF-8        LC_COLLATE=en_US.UTF-8    \n",
       " [5] LC_MONETARY=en_US.UTF-8    LC_MESSAGES=en_US.UTF-8   \n",
       " [7] LC_PAPER=en_US.UTF-8       LC_NAME=C                 \n",
       " [9] LC_ADDRESS=C               LC_TELEPHONE=C            \n",
       "[11] LC_MEASUREMENT=en_US.UTF-8 LC_IDENTIFICATION=C       \n",
       "\n",
       "attached base packages:\n",
       "[1] stats     graphics  grDevices utils     datasets  methods   base     \n",
       "\n",
       "other attached packages:\n",
       "[1] randomForest_4.6-12 biomaRt_2.30.0      caret_6.0-73       \n",
       "[4] lattice_0.20-35     ggplot2_2.2.1.9000 \n",
       "\n",
       "loaded via a namespace (and not attached):\n",
       " [1] pbdZMQ_0.2-5         repr_0.10            reshape2_1.4.2      \n",
       " [4] splines_3.3.1        colorspace_1.3-2     stats4_3.3.1        \n",
       " [7] mgcv_1.8-17          XML_3.98-1.6         ModelMetrics_1.1.0  \n",
       "[10] e1071_1.6-8          nloptr_1.0.4         DBI_0.6-1           \n",
       "[13] BiocGenerics_0.20.0  uuid_0.1-2           foreach_1.4.3       \n",
       "[16] plyr_1.8.4           stringr_1.2.0        MatrixModels_0.4-1  \n",
       "[19] munsell_0.4.3        gtable_0.2.0         codetools_0.2-15    \n",
       "[22] evaluate_0.10        memoise_1.0.0        labeling_0.3        \n",
       "[25] Biobase_2.34.0       IRanges_2.8.2        SparseM_1.76        \n",
       "[28] class_7.3-14         quantreg_5.29        pbkrtest_0.4-7      \n",
       "[31] parallel_3.3.1       AnnotationDbi_1.36.2 IRdisplay_0.4.9000  \n",
       "[34] Rcpp_0.12.10         scales_0.4.1         IRkernel_0.6        \n",
       "[37] S4Vectors_0.12.2     jsonlite_1.3         lme4_1.1-12         \n",
       "[40] digest_0.6.12        stringi_1.1.3        grid_3.3.1          \n",
       "[43] tools_3.3.1          bitops_1.0-6         magrittr_1.5        \n",
       "[46] lazyeval_0.2.0       RCurl_1.95-4.8       tibble_1.3.0        \n",
       "[49] RSQLite_1.1-2        crayon_1.3.2         car_2.1-4           \n",
       "[52] MASS_7.3-45          Matrix_1.2-8         minqa_1.2.4         \n",
       "[55] iterators_1.0.8      R6_2.2.0             compiler_3.3.1      \n",
       "[58] nnet_7.3-12          nlme_3.1-131        "
      ]
     },
     "metadata": {},
     "output_type": "display_data"
    }
   ],
   "source": [
    "sessionInfo()"
   ]
  }
 ],
 "metadata": {
  "kernelspec": {
   "display_name": "R",
   "language": "R",
   "name": "ir"
  },
  "language_info": {
   "codemirror_mode": "r",
   "file_extension": ".r",
   "mimetype": "text/x-r-source",
   "name": "R",
   "pygments_lexer": "r",
   "version": "3.3.1"
  }
 },
 "nbformat": 4,
 "nbformat_minor": 1
}
